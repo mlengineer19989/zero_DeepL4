{
 "cells": [
  {
   "cell_type": "markdown",
   "metadata": {},
   "source": [
    "# OpenAI Gym"
   ]
  },
  {
   "cell_type": "code",
   "execution_count": 1,
   "metadata": {},
   "outputs": [
    {
     "name": "stderr",
     "output_type": "stream",
     "text": [
      "/Users/yamauchito_satoshi/Documents/env/zero_DeepL4/lib/python3.8/site-packages/gym/envs/registration.py:593: UserWarning: \u001b[33mWARN: The environment CartPole-v0 is out of date. You should consider upgrading to version `v1`.\u001b[0m\n",
      "  logger.warn(\n",
      "/Users/yamauchito_satoshi/Documents/env/zero_DeepL4/lib/python3.8/site-packages/gym/core.py:329: DeprecationWarning: \u001b[33mWARN: Initializing wrapper in old step API which returns one bool instead of two. It is recommended to set `new_step_api=True` to use new step API. This will be the default behaviour in future.\u001b[0m\n",
      "  deprecation(\n",
      "/Users/yamauchito_satoshi/Documents/env/zero_DeepL4/lib/python3.8/site-packages/gym/wrappers/step_api_compatibility.py:39: DeprecationWarning: \u001b[33mWARN: Initializing environment in old step API which returns one bool instead of two. It is recommended to set `new_step_api=True` to use new step API. This will be the default behaviour in future.\u001b[0m\n",
      "  deprecation(\n"
     ]
    }
   ],
   "source": [
    "import gym\n",
    "\n",
    "env = gym.make(\"CartPole-v0\")"
   ]
  },
  {
   "cell_type": "code",
   "execution_count": 2,
   "metadata": {},
   "outputs": [
    {
     "name": "stdout",
     "output_type": "stream",
     "text": [
      "[ 0.00604887 -0.02179821 -0.00839396  0.00828056]\n",
      "Discrete(2)\n"
     ]
    }
   ],
   "source": [
    "state = env.reset()\n",
    "print(state)\n",
    "\n",
    "action_space = env.action_space\n",
    "print(action_space)"
   ]
  },
  {
   "cell_type": "code",
   "execution_count": 3,
   "metadata": {},
   "outputs": [
    {
     "name": "stdout",
     "output_type": "stream",
     "text": [
      "[ 0.00561291 -0.21679878 -0.00822834  0.2983033 ]\n"
     ]
    }
   ],
   "source": [
    "action = 0\n",
    "next_state, reward, done, info = env.step(action)\n",
    "print(next_state)"
   ]
  },
  {
   "cell_type": "code",
   "execution_count": 5,
   "metadata": {},
   "outputs": [],
   "source": [
    "import numpy as np\n",
    "import gym\n",
    "\n",
    "\n",
    "env = gym.make('CartPole-v0')\n",
    "state = env.reset()\n",
    "done = False\n",
    "\n",
    "while not done:\n",
    "    env.render()\n",
    "    action = np.random.choice([0, 1])\n",
    "    next_state, reward, done, info = env.step(action)\n",
    "env.close()"
   ]
  },
  {
   "cell_type": "markdown",
   "metadata": {},
   "source": [
    "# 経験再生"
   ]
  },
  {
   "cell_type": "code",
   "execution_count": 6,
   "metadata": {},
   "outputs": [
    {
     "name": "stdout",
     "output_type": "stream",
     "text": [
      "(32, 4)\n",
      "(32,)\n",
      "(32,)\n",
      "(32, 4)\n",
      "(32,)\n"
     ]
    }
   ],
   "source": [
    "from collections import deque\n",
    "import random\n",
    "import numpy as np\n",
    "import gym\n",
    "\n",
    "\n",
    "class ReplayBuffer:\n",
    "    def __init__(self, buffer_size, batch_size):\n",
    "        self.buffer = deque(maxlen=buffer_size)\n",
    "        self.batch_size = batch_size\n",
    "\n",
    "    def add(self, state, action, reward, next_state, done):\n",
    "        data = (state, action, reward, next_state, done)\n",
    "        self.buffer.append(data)\n",
    "\n",
    "    def __len__(self):\n",
    "        return len(self.buffer)\n",
    "\n",
    "    def get_batch(self):\n",
    "        data = random.sample(self.buffer, self.batch_size)\n",
    "\n",
    "        state = np.stack([x[0] for x in data])\n",
    "        action = np.array([x[1] for x in data])\n",
    "        reward = np.array([x[2] for x in data])\n",
    "        next_state = np.stack([x[3] for x in data])\n",
    "        done = np.array([x[4] for x in data]).astype(np.int32)\n",
    "        return state, action, reward, next_state, done\n",
    "\n",
    "\n",
    "env = gym.make('CartPole-v0')\n",
    "replay_buffer = ReplayBuffer(buffer_size=10000, batch_size=32)\n",
    "\n",
    "for episode in range(10):\n",
    "    state = env.reset()\n",
    "    done = False\n",
    "\n",
    "    while not done:\n",
    "        action = 0\n",
    "        next_state, reward, done, info = env.step(action)\n",
    "        replay_buffer.add(state, action, reward, next_state, done)\n",
    "        state = next_state\n",
    "\n",
    "state, action, reward, next_state, done = replay_buffer.get_batch()\n",
    "print(state.shape)  # (32, 4)\n",
    "print(action.shape)  # (32,)\n",
    "print(reward.shape)  # (32,)\n",
    "print(next_state.shape)  # (32, 4)\n",
    "print(done.shape)  # (32,)\n"
   ]
  },
  {
   "cell_type": "markdown",
   "metadata": {},
   "source": [
    "# ターゲットネットワーク"
   ]
  },
  {
   "cell_type": "code",
   "execution_count": 9,
   "metadata": {},
   "outputs": [
    {
     "name": "stderr",
     "output_type": "stream",
     "text": [
      "/Users/yamauchito_satoshi/Documents/env/zero_DeepL4/lib/python3.8/site-packages/dezero/transforms.py:50: DeprecationWarning: BILINEAR is deprecated and will be removed in Pillow 10 (2023-07-01). Use Resampling.BILINEAR instead.\n",
      "  def __init__(self, size, mode=Image.BILINEAR):\n",
      "/Users/yamauchito_satoshi/Documents/env/zero_DeepL4/lib/python3.8/site-packages/dezero/transforms.py:154: DeprecationWarning: `np.int` is a deprecated alias for the builtin `int`. To silence this warning, use `int` by itself. Doing this will not modify any behavior and is safe. When replacing `np.int`, you may wish to use e.g. `np.int64` or `np.int32` to specify the precision. If you wish to review your current use, check the release note link for additional information.\n",
      "Deprecated in NumPy 1.20; for more details and guidance: https://numpy.org/devdocs/release/1.20.0-notes.html#deprecations\n",
      "  def __init__(self, dtype=np.int):\n",
      "/Users/yamauchito_satoshi/Documents/env/zero_DeepL4/lib/python3.8/site-packages/gym/envs/registration.py:593: UserWarning: \u001b[33mWARN: The environment CartPole-v0 is out of date. You should consider upgrading to version `v1`.\u001b[0m\n",
      "  logger.warn(\n",
      "/Users/yamauchito_satoshi/Documents/env/zero_DeepL4/lib/python3.8/site-packages/gym/core.py:329: DeprecationWarning: \u001b[33mWARN: Initializing wrapper in old step API which returns one bool instead of two. It is recommended to set `new_step_api=True` to use new step API. This will be the default behaviour in future.\u001b[0m\n",
      "  deprecation(\n",
      "/Users/yamauchito_satoshi/Documents/env/zero_DeepL4/lib/python3.8/site-packages/gym/wrappers/step_api_compatibility.py:39: DeprecationWarning: \u001b[33mWARN: Initializing environment in old step API which returns one bool instead of two. It is recommended to set `new_step_api=True` to use new step API. This will be the default behaviour in future.\u001b[0m\n",
      "  deprecation(\n"
     ]
    },
    {
     "name": "stdout",
     "output_type": "stream",
     "text": [
      "episode :0, total reward : 9.0\n",
      "episode :10, total reward : 13.0\n",
      "episode :20, total reward : 26.0\n",
      "episode :30, total reward : 12.0\n",
      "episode :40, total reward : 8.0\n",
      "episode :50, total reward : 9.0\n",
      "episode :60, total reward : 10.0\n",
      "episode :70, total reward : 10.0\n",
      "episode :80, total reward : 9.0\n",
      "episode :90, total reward : 9.0\n",
      "episode :100, total reward : 10.0\n",
      "episode :110, total reward : 105.0\n",
      "episode :120, total reward : 91.0\n",
      "episode :130, total reward : 124.0\n",
      "episode :140, total reward : 100.0\n",
      "episode :150, total reward : 148.0\n",
      "episode :160, total reward : 138.0\n",
      "episode :170, total reward : 162.0\n",
      "episode :180, total reward : 200.0\n",
      "episode :190, total reward : 172.0\n",
      "episode :200, total reward : 200.0\n",
      "episode :210, total reward : 200.0\n",
      "episode :220, total reward : 200.0\n",
      "episode :230, total reward : 200.0\n",
      "episode :240, total reward : 200.0\n",
      "episode :250, total reward : 103.0\n",
      "episode :260, total reward : 120.0\n",
      "episode :270, total reward : 200.0\n",
      "episode :280, total reward : 200.0\n",
      "episode :290, total reward : 137.0\n"
     ]
    },
    {
     "data": {
      "image/png": "[encoded data removed]",
      "text/plain": [
       "<Figure size 432x288 with 1 Axes>"
      ]
     },
     "metadata": {
      "needs_background": "light"
     },
     "output_type": "display_data"
    },
    {
     "name": "stderr",
     "output_type": "stream",
     "text": [
      "/Users/yamauchito_satoshi/Documents/env/zero_DeepL4/lib/python3.8/site-packages/gym/core.py:57: DeprecationWarning: \u001b[33mWARN: You are calling render method, but you didn't specified the argument render_mode at environment initialization. To maintain backward compatibility, the environment will render in human mode.\n",
      "If you want to render in human mode, initialize the environment in this way: gym.make('EnvName', render_mode='human') and don't call the render method.\n",
      "See here for more information: https://www.gymlibrary.ml/content/api/\u001b[0m\n",
      "  deprecation(\n"
     ]
    },
    {
     "name": "stdout",
     "output_type": "stream",
     "text": [
      "Total Reward: 200.0\n"
     ]
    },
    {
     "ename": "",
     "evalue": "",
     "output_type": "error",
     "traceback": [
      "現在のセルまたは前のセルでコードを実行中に、カーネルがクラッシュしました。エラーの原因を特定するには、セル内のコードを確認してください。詳細については、<a href='https://aka.ms/vscodeJupyterKernelCrash'>こちら</a> をクリックしてください。さらなる詳細については、Jupyter [log] (command:jupyter.viewOutput) を参照してください。"
     ]
    }
   ],
   "source": [
    "import copy\n",
    "from collections import deque\n",
    "import random\n",
    "import matplotlib.pyplot as plt\n",
    "import numpy as np\n",
    "import gym\n",
    "from dezero import Model\n",
    "from dezero import optimizers\n",
    "import dezero.functions as F\n",
    "import dezero.layers as L\n",
    "\n",
    "class QNet(Model):\n",
    "    def __init__(self, action_size):\n",
    "        super().__init__()\n",
    "        self.l1 = L.Linear(128)\n",
    "        self.l2 = L.Linear(128)\n",
    "        self.l3 = L.Linear(action_size)\n",
    "\n",
    "    def forward(self, x):\n",
    "        x = F.relu(self.l1(x))\n",
    "        x = F.relu(self.l2(x))\n",
    "        x = self.l3(x)\n",
    "        return x\n",
    "\n",
    "\n",
    "class DQNAgent:\n",
    "    def __init__(self):\n",
    "        self.gamma = 0.98\n",
    "        self.lr = 0.0005\n",
    "        self.epsilon = 0.1\n",
    "        self.buffer_size = 10000\n",
    "        self.batch_size = 32\n",
    "        self.action_size = 2\n",
    "\n",
    "        self.replay_buffer = ReplayBuffer(self.buffer_size, self.batch_size)\n",
    "        self.qnet = QNet(self.action_size)\n",
    "        self.qnet_target = QNet(self.action_size)\n",
    "        self.optimizer = optimizers.Adam(self.lr)\n",
    "        self.optimizer.setup(self.qnet)\n",
    "\n",
    "    def get_action(self, state):\n",
    "        if np.random.rand() < self.epsilon:\n",
    "            return np.random.choice(self.action_size)\n",
    "        else:\n",
    "            state = state[np.newaxis, :]\n",
    "            qs = self.qnet(state)\n",
    "            return qs.data.argmax()\n",
    "\n",
    "    def update(self, state, action, reward, next_state, done):\n",
    "        self.replay_buffer.add(state, action, reward, next_state, done)\n",
    "        if len(self.replay_buffer) < self.batch_size:\n",
    "            return\n",
    "\n",
    "        state, action, reward, next_state, done = self.replay_buffer.get_batch()\n",
    "        qs = self.qnet(state)\n",
    "        q = qs[np.arange(self.batch_size), action]\n",
    "\n",
    "        next_qs = self.qnet_target(next_state)\n",
    "        next_q = next_qs.max(axis=1)\n",
    "        next_q.unchain()\n",
    "        target = reward + (1 - done) * self.gamma * next_q\n",
    "\n",
    "        loss = F.mean_squared_error(q, target)\n",
    "\n",
    "        self.qnet.cleargrads()\n",
    "        loss.backward()\n",
    "        self.optimizer.update()\n",
    "\n",
    "    def sync_qnet(self):\n",
    "        self.qnet_target = copy.deepcopy(self.qnet)\n",
    "\n",
    "episodes = 300\n",
    "sync_interval = 20\n",
    "env = gym.make('CartPole-v0')\n",
    "agent = DQNAgent()\n",
    "reward_history = []\n",
    "\n",
    "for episode in range(episodes):\n",
    "    state = env.reset()\n",
    "    done = False\n",
    "    total_reward = 0\n",
    "\n",
    "    while not done:\n",
    "        action = agent.get_action(state)\n",
    "        next_state, reward, done, info = env.step(action)\n",
    "\n",
    "        agent.update(state, action, reward, next_state, done)\n",
    "        state = next_state\n",
    "        total_reward += reward\n",
    "\n",
    "    if episode % sync_interval == 0:\n",
    "        agent.sync_qnet()\n",
    "\n",
    "    reward_history.append(total_reward)\n",
    "    if episode % 10 == 0:\n",
    "        print(\"episode :{}, total reward : {}\".format(episode, total_reward))\n",
    "\n",
    "\n",
    "# === Plot ===\n",
    "plt.xlabel('Episode')\n",
    "plt.ylabel('Total Reward')\n",
    "plt.plot(range(len(reward_history)), reward_history)\n",
    "plt.show()\n",
    "\n",
    "\n",
    "# === Play CartPole ===\n",
    "agent.epsilon = 0  # greedy policy\n",
    "state = env.reset()\n",
    "done = False\n",
    "total_reward = 0\n",
    "\n",
    "while not done:\n",
    "    action = agent.get_action(state)\n",
    "    next_state, reward, done, info = env.step(action)\n",
    "    state = next_state\n",
    "    total_reward += reward\n",
    "    env.render()\n",
    "print('Total Reward:', total_reward)\n"
   ]
  },
  {
   "cell_type": "code",
   "execution_count": null,
   "metadata": {},
   "outputs": [],
   "source": []
  }
 ],
 "metadata": {
  "kernelspec": {
   "display_name": "Python 3.8.8 ('zero_DeepL4')",
   "language": "python",
   "name": "python3"
  },
  "language_info": {
   "codemirror_mode": {
    "name": "ipython",
    "version": 3
   },
   "file_extension": ".py",
   "mimetype": "text/x-python",
   "name": "python",
   "nbconvert_exporter": "python",
   "pygments_lexer": "ipython3",
   "version": "3.8.8"
  },
  "orig_nbformat": 4,
  "vscode": {
   "interpreter": {
    "hash": "c87f3622c2ea8e0d326ee4536d8291e8dc167b57ce72c5446c21789e4b540e8b"
   }
  }
 },
 "nbformat": 4,
 "nbformat_minor": 2
}
