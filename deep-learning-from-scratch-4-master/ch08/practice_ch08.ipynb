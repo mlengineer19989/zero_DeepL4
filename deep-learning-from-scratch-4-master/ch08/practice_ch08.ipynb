{
 "cells": [
  {
   "cell_type": "markdown",
   "metadata": {},
   "source": [
    "# OpenAI Gym"
   ]
  },
  {
   "cell_type": "code",
   "execution_count": 1,
   "metadata": {},
   "outputs": [
    {
     "name": "stderr",
     "output_type": "stream",
     "text": [
      "/Users/yamauchito_satoshi/Documents/env/zero_DeepL4/lib/python3.8/site-packages/gym/envs/registration.py:593: UserWarning: \u001b[33mWARN: The environment CartPole-v0 is out of date. You should consider upgrading to version `v1`.\u001b[0m\n",
      "  logger.warn(\n",
      "/Users/yamauchito_satoshi/Documents/env/zero_DeepL4/lib/python3.8/site-packages/gym/core.py:329: DeprecationWarning: \u001b[33mWARN: Initializing wrapper in old step API which returns one bool instead of two. It is recommended to set `new_step_api=True` to use new step API. This will be the default behaviour in future.\u001b[0m\n",
      "  deprecation(\n",
      "/Users/yamauchito_satoshi/Documents/env/zero_DeepL4/lib/python3.8/site-packages/gym/wrappers/step_api_compatibility.py:39: DeprecationWarning: \u001b[33mWARN: Initializing environment in old step API which returns one bool instead of two. It is recommended to set `new_step_api=True` to use new step API. This will be the default behaviour in future.\u001b[0m\n",
      "  deprecation(\n"
     ]
    }
   ],
   "source": [
    "import gym\n",
    "\n",
    "env = gym.make(\"CartPole-v0\")"
   ]
  },
  {
   "cell_type": "code",
   "execution_count": 2,
   "metadata": {},
   "outputs": [
    {
     "name": "stdout",
     "output_type": "stream",
     "text": [
      "[ 0.00604887 -0.02179821 -0.00839396  0.00828056]\n",
      "Discrete(2)\n"
     ]
    }
   ],
   "source": [
    "state = env.reset()\n",
    "print(state)\n",
    "\n",
    "action_space = env.action_space\n",
    "print(action_space)"
   ]
  },
  {
   "cell_type": "code",
   "execution_count": 3,
   "metadata": {},
   "outputs": [
    {
     "name": "stdout",
     "output_type": "stream",
     "text": [
      "[ 0.00561291 -0.21679878 -0.00822834  0.2983033 ]\n"
     ]
    }
   ],
   "source": [
    "action = 0\n",
    "next_state, reward, done, info = env.step(action)\n",
    "print(next_state)"
   ]
  },
  {
   "cell_type": "code",
   "execution_count": 5,
   "metadata": {},
   "outputs": [],
   "source": [
    "import numpy as np\n",
    "import gym\n",
    "\n",
    "\n",
    "env = gym.make('CartPole-v0')\n",
    "state = env.reset()\n",
    "done = False\n",
    "\n",
    "while not done:\n",
    "    env.render()\n",
    "    action = np.random.choice([0, 1])\n",
    "    next_state, reward, done, info = env.step(action)\n",
    "env.close()"
   ]
  },
  {
   "cell_type": "markdown",
   "metadata": {},
   "source": [
    "# 経験再生"
   ]
  },
  {
   "cell_type": "code",
   "execution_count": 6,
   "metadata": {},
   "outputs": [
    {
     "name": "stdout",
     "output_type": "stream",
     "text": [
      "(32, 4)\n",
      "(32,)\n",
      "(32,)\n",
      "(32, 4)\n",
      "(32,)\n"
     ]
    }
   ],
   "source": [
    "from collections import deque\n",
    "import random\n",
    "import numpy as np\n",
    "import gym\n",
    "\n",
    "\n",
    "class ReplayBuffer:\n",
    "    def __init__(self, buffer_size, batch_size):\n",
    "        self.buffer = deque(maxlen=buffer_size)\n",
    "        self.batch_size = batch_size\n",
    "\n",
    "    def add(self, state, action, reward, next_state, done):\n",
    "        data = (state, action, reward, next_state, done)\n",
    "        self.buffer.append(data)\n",
    "\n",
    "    def __len__(self):\n",
    "        return len(self.buffer)\n",
    "\n",
    "    def get_batch(self):\n",
    "        data = random.sample(self.buffer, self.batch_size)\n",
    "\n",
    "        state = np.stack([x[0] for x in data])\n",
    "        action = np.array([x[1] for x in data])\n",
    "        reward = np.array([x[2] for x in data])\n",
    "        next_state = np.stack([x[3] for x in data])\n",
    "        done = np.array([x[4] for x in data]).astype(np.int32)\n",
    "        return state, action, reward, next_state, done\n",
    "\n",
    "\n",
    "env = gym.make('CartPole-v0')\n",
    "replay_buffer = ReplayBuffer(buffer_size=10000, batch_size=32)\n",
    "\n",
    "for episode in range(10):\n",
    "    state = env.reset()\n",
    "    done = False\n",
    "\n",
    "    while not done:\n",
    "        action = 0\n",
    "        next_state, reward, done, info = env.step(action)\n",
    "        replay_buffer.add(state, action, reward, next_state, done)\n",
    "        state = next_state\n",
    "\n",
    "state, action, reward, next_state, done = replay_buffer.get_batch()\n",
    "print(state.shape)  # (32, 4)\n",
    "print(action.shape)  # (32,)\n",
    "print(reward.shape)  # (32,)\n",
    "print(next_state.shape)  # (32, 4)\n",
    "print(done.shape)  # (32,)\n"
   ]
  },
  {
   "cell_type": "code",
   "execution_count": 8,
   "metadata": {},
   "outputs": [
    {
     "data": {
      "text/plain": [
       "array([[-2.81422809e-02, -3.02525032e-02, -2.67573446e-02,\n",
       "        -2.61215065e-02],\n",
       "       [-5.65458313e-02, -9.51798260e-01,  3.48943919e-02,\n",
       "         1.48200262e+00],\n",
       "       [-1.09509476e-01, -1.21565425e+00,  4.02121730e-02,\n",
       "         1.67270863e+00],\n",
       "       [-4.03346606e-02,  4.66219001e-02, -4.02047336e-02,\n",
       "        -1.81822572e-03],\n",
       "       [-1.25390619e-01, -1.53908968e+00,  1.42189980e-01,\n",
       "         2.41931272e+00],\n",
       "       [-3.32469456e-02, -4.19702798e-01, -2.21197642e-02,\n",
       "         5.41955709e-01],\n",
       "       [-9.02138725e-02, -1.20011675e+00,  5.58258072e-02,\n",
       "         1.71221626e+00],\n",
       "       [-8.44768658e-02, -1.61546123e+00,  1.78381875e-01,\n",
       "         2.42851090e+00],\n",
       "       [-1.29216248e-02, -3.91759515e-01,  9.40696616e-03,\n",
       "         6.10889792e-01],\n",
       "       [-3.94022204e-02, -1.47901088e-01, -4.02410962e-02,\n",
       "         2.77913451e-01],\n",
       "       [-2.87473295e-02, -2.24980712e-01, -2.72797756e-02,\n",
       "         2.58000523e-01],\n",
       "       [-4.81454395e-02, -9.78032112e-01,  6.38736039e-02,\n",
       "         1.51079321e+00],\n",
       "       [-1.15126371e-02, -9.53050792e-01,  1.44944862e-02,\n",
       "         1.42350709e+00],\n",
       "       [-5.99496700e-02, -7.31837749e-01, -6.74617477e-03,\n",
       "         1.12438619e+00],\n",
       "       [-1.43301273e-02, -1.21226323e+00,  7.43248984e-02,\n",
       "         1.73873603e+00],\n",
       "       [ 1.35230739e-02, -6.26006424e-01,  5.66148274e-02,\n",
       "         9.01920199e-01],\n",
       "       [-9.85283554e-02, -1.34311283e+00,  1.00241959e-01,\n",
       "         2.09740138e+00],\n",
       "       [ 2.57705525e-02, -1.74180880e-01, -4.22775932e-02,\n",
       "         2.88710743e-01],\n",
       "       [-8.04193467e-02, -1.53976774e+00,  1.17906764e-01,\n",
       "         2.34201765e+00],\n",
       "       [-3.57910059e-02, -1.21401620e+00,  1.29429370e-01,\n",
       "         1.84879768e+00],\n",
       "       [ 4.91022915e-02, -4.09580730e-02, -9.12525598e-03,\n",
       "        -3.29223275e-02],\n",
       "       [-1.42132878e-01, -1.59176552e+00,  1.30504906e-01,\n",
       "         2.34088993e+00],\n",
       "       [-1.74090136e-02, -1.00739312e+00,  9.94327143e-02,\n",
       "         1.57390869e+00],\n",
       "       [-4.14151661e-02, -7.56533146e-01,  1.11776525e-02,\n",
       "         1.18583703e+00],\n",
       "       [ 3.64809763e-03, -7.58036733e-01, -8.17348994e-03,\n",
       "         1.13339877e+00],\n",
       "       [ 3.49455923e-02, -6.25985265e-01,  6.28262106e-03,\n",
       "         8.37663949e-01],\n",
       "       [ 6.00203779e-03, -1.01660824e+00,  4.56822217e-02,\n",
       "         1.43213391e+00],\n",
       "       [-6.77060857e-02, -1.17386711e+00,  9.40894634e-02,\n",
       "         1.82271266e+00],\n",
       "       [-8.91019553e-02, -1.02037609e+00,  1.26904901e-02,\n",
       "         1.37608409e+00],\n",
       "       [ 4.35641706e-02, -4.30928886e-01, -4.64635063e-03,\n",
       "         5.46448588e-01],\n",
       "       [ 2.53644120e-02,  2.03070473e-02, -4.24720943e-02,\n",
       "         9.72500443e-03],\n",
       "       [ 3.19807902e-02, -2.45219022e-01,  1.55715272e-02,\n",
       "         2.53772110e-01]], dtype=float32)"
      ]
     },
     "execution_count": 8,
     "metadata": {},
     "output_type": "execute_result"
    }
   ],
   "source": []
  },
  {
   "cell_type": "code",
   "execution_count": null,
   "metadata": {},
   "outputs": [],
   "source": []
  }
 ],
 "metadata": {
  "kernelspec": {
   "display_name": "Python 3.8.8 ('zero_DeepL4')",
   "language": "python",
   "name": "python3"
  },
  "language_info": {
   "codemirror_mode": {
    "name": "ipython",
    "version": 3
   },
   "file_extension": ".py",
   "mimetype": "text/x-python",
   "name": "python",
   "nbconvert_exporter": "python",
   "pygments_lexer": "ipython3",
   "version": "3.8.8"
  },
  "orig_nbformat": 4,
  "vscode": {
   "interpreter": {
    "hash": "c87f3622c2ea8e0d326ee4536d8291e8dc167b57ce72c5446c21789e4b540e8b"
   }
  }
 },
 "nbformat": 4,
 "nbformat_minor": 2
}
