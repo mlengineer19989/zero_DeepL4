{
 "cells": [
  {
   "cell_type": "code",
   "execution_count": null,
   "metadata": {},
   "outputs": [],
   "source": []
  }
 ],
 "metadata": {
  "kernelspec": {
   "display_name": "Python 3.7.11 ('base')",
   "language": "python",
   "name": "python3"
  },
  "language_info": {
   "name": "python",
   "version": "3.7.11"
  },
  "orig_nbformat": 4,
  "vscode": {
   "interpreter": {
    "hash": "4bf7d42566934378e3b3fa49d5ce639162b742cc4657771a427b205a5111fc3f"
   }
  }
 },
 "nbformat": 4,
 "nbformat_minor": 2
}
