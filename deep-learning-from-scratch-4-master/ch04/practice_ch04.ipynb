{
 "cells": [
  {
   "cell_type": "markdown",
   "metadata": {},
   "source": [
    "# 反復方策評価を試す"
   ]
  },
  {
   "cell_type": "code",
   "execution_count": 1,
   "metadata": {},
   "outputs": [
    {
     "name": "stdout",
     "output_type": "stream",
     "text": [
      "{'L1': -2.249167525908671, 'L2': -2.749167525908671}\n",
      "76\n"
     ]
    }
   ],
   "source": [
    "V = {'L1': 0.0, 'L2': 0.0}\n",
    "new_V = V.copy()\n",
    "\n",
    "cnt = 0\n",
    "while True:\n",
    "    new_V['L1'] = 0.5 * (-1 + 0.9 * V['L1']) + 0.5 * (1 + 0.9 * V['L2'])\n",
    "    new_V['L2'] = 0.5 * (0 + 0.9 * V['L1']) + 0.5 * (-1 + 0.9 * V['L2'])\n",
    "\n",
    "    delta = abs(new_V['L1'] - V['L1'])\n",
    "    delta = max(delta, abs(new_V['L2'] - V['L2']))\n",
    "    V = new_V.copy()\n",
    "\n",
    "    cnt += 1\n",
    "    if delta < 0.0001:\n",
    "        print(V)\n",
    "        print(cnt)\n",
    "        break\n"
   ]
  },
  {
   "cell_type": "markdown",
   "metadata": {},
   "source": [
    "# 反復方策評価の別の実装方法"
   ]
  },
  {
   "cell_type": "code",
   "execution_count": 2,
   "metadata": {},
   "outputs": [
    {
     "name": "stdout",
     "output_type": "stream",
     "text": [
      "{'L1': -2.2493782177156936, 'L2': -2.7494201578106514}\n",
      "60\n"
     ]
    }
   ],
   "source": [
    "V = {'L1': 0.0, 'L2': 0.0}\n",
    "\n",
    "cnt = 0\n",
    "while True:\n",
    "    t = 0.5 * (-1 + 0.9 * V['L1']) + 0.5 * (1 + 0.9 * V['L2'])\n",
    "    delta = abs(t - V['L1'])\n",
    "    V['L1'] = t\n",
    "\n",
    "    t = 0.5 * (0 + 0.9 * V['L1']) + 0.5 * (-1 + 0.9 * V['L2'])\n",
    "    delta = max(delta, abs(t - V['L2']))\n",
    "    V['L2'] = t\n",
    "\n",
    "    cnt += 1\n",
    "    if delta < 0.0001:\n",
    "        print(V)\n",
    "        print(cnt)\n",
    "        break"
   ]
  },
  {
   "cell_type": "markdown",
   "metadata": {},
   "source": [
    "# GridWorldクラスの実装"
   ]
  },
  {
   "cell_type": "code",
   "execution_count": 12,
   "metadata": {},
   "outputs": [],
   "source": [
    "import numpy as np\n",
    "import os\n",
    "import sys\n",
    "\n",
    "sys.path.append(os.path.abspath(\"../\"))\n",
    "import common\n",
    "from common import gridworld_render as render_helper\n",
    "\n",
    "class GridWorld:\n",
    "    def __init__(self):\n",
    "        self.action_space = [0, 1, 2, 3]\n",
    "        self.action_meaning = {\n",
    "            0: \"UP\",\n",
    "            1: \"DOWN\",\n",
    "            2: \"LEFT\",\n",
    "            3: \"RIGHT\",\n",
    "        }\n",
    "\n",
    "        self.reward_map = np.array(\n",
    "            [[0, 0, 0, 1.0],\n",
    "             [0, None, 0, -1.0],\n",
    "             [0, 0, 0, 0]]\n",
    "        )\n",
    "        self.goal_state = (0, 3)\n",
    "        self.wall_state = (1, 1)\n",
    "        self.start_state = (2, 0)\n",
    "        self.agent_state = self.start_state\n",
    "\n",
    "    @property\n",
    "    def height(self):\n",
    "        return len(self.reward_map)\n",
    "\n",
    "    @property\n",
    "    def width(self):\n",
    "        return len(self.reward_map[0])\n",
    "\n",
    "    @property\n",
    "    def shape(self):\n",
    "        return self.reward_map.shape\n",
    "\n",
    "    def actions(self):\n",
    "        return self.action_space\n",
    "\n",
    "    def states(self):\n",
    "        for h in range(self.height):\n",
    "            for w in range(self.width):\n",
    "                yield (h, w)\n",
    "\n",
    "    def next_state(self, state, action):\n",
    "        #移動先の場所の計算①\n",
    "        action_move_map = [(-1, 0), (1, 0), (0, -1), (0, 1)]\n",
    "        move = action_move_map[action]\n",
    "        next_state = (state[0] + move[0], state[1] + move[1])\n",
    "        ny, nx = next_state\n",
    "\n",
    "        #移動先がグリッドワールドの枠の外か、\n",
    "        if nx < 0 or nx >= self.width or ny < 0 or ny >= self.height:\n",
    "            next_state = state\n",
    "        elif next_state == self.wall_state:\n",
    "            next_state = state\n",
    "\n",
    "        return next_state\n",
    "\n",
    "    def reward(self, state, action, next_state):\n",
    "        return self.reward_map[next_state]\n",
    "\n",
    "    def render_v(self, v=None, policy=None, print_value=True):\n",
    "        renderer = render_helper.Renderer(self.reward_map, self.goal_state,\n",
    "                                            self.wall_state)\n",
    "        renderer.render_v(v, policy, print_value)"
   ]
  },
  {
   "cell_type": "code",
   "execution_count": 6,
   "metadata": {},
   "outputs": [
    {
     "data": {
      "image/png": "[encoded data removed]",
      "text/plain": [
       "<Figure size 432x288 with 1 Axes>"
      ]
     },
     "metadata": {},
     "output_type": "display_data"
    }
   ],
   "source": [
    "env = GridWorld()\n",
    "env.render_v()"
   ]
  },
  {
   "cell_type": "code",
   "execution_count": 20,
   "metadata": {},
   "outputs": [
    {
     "data": {
      "image/png": "[encoded data removed]",
      "text/plain": [
       "<Figure size 432x288 with 1 Axes>"
      ]
     },
     "metadata": {},
     "output_type": "display_data"
    }
   ],
   "source": [
    "env = GridWorld()\n",
    "V = {}\n",
    "for state in env.states():\n",
    "    V[state] = np.random.randn()#ダミーの状態価値関数\n",
    "env.render_v(V)"
   ]
  },
  {
   "cell_type": "markdown",
   "metadata": {},
   "source": [
    "# defaultdictの使い方"
   ]
  },
  {
   "cell_type": "code",
   "execution_count": 18,
   "metadata": {},
   "outputs": [
    {
     "name": "stdout",
     "output_type": "stream",
     "text": [
      "0\n"
     ]
    }
   ],
   "source": [
    "from collections import defaultdict\n",
    "\n",
    "env = GridWorld()\n",
    "V = defaultdict(lambda: 0)\n",
    "\n",
    "state = (1,2)\n",
    "print(V[state])"
   ]
  },
  {
   "cell_type": "code",
   "execution_count": 19,
   "metadata": {},
   "outputs": [
    {
     "name": "stdout",
     "output_type": "stream",
     "text": [
      "{0: 0.25, 1: 0.25, 2: 0.25, 3: 0.25}\n"
     ]
    }
   ],
   "source": [
    "pi = defaultdict(lambda: {0: 0.25, 1: 0.25, 2: 0.25, 3: 0.25})\n",
    "\n",
    "state = (0, 1)\n",
    "print(pi[state])"
   ]
  },
  {
   "cell_type": "markdown",
   "metadata": {},
   "source": [
    "# 反復方策評価の実装"
   ]
  },
  {
   "cell_type": "code",
   "execution_count": 23,
   "metadata": {},
   "outputs": [],
   "source": [
    "def eval_onestep(pi, V, env, gamma=0.9):\n",
    "    for state in env.states():\n",
    "        if state == env.goal_state:\n",
    "            V[state] = 0\n",
    "            continue\n",
    "\n",
    "        action_probs = pi[state]\n",
    "        new_V = 0\n",
    "        for action, action_prob in action_probs.items():\n",
    "            next_state = env.next_state(state, action)\n",
    "            r = env.reward(state, action, next_state)\n",
    "            new_V += action_prob * (r + gamma * V[next_state])\n",
    "        V[state] = new_V\n",
    "    return V\n",
    "\n",
    "def policy_eval(pi, V, env, gamma, threshold=0.001):\n",
    "    while True:\n",
    "        old_V = V.copy()\n",
    "        V = eval_onestep(pi, V, env, gamma)\n",
    "\n",
    "        delta = 0\n",
    "        for state in V.keys():\n",
    "            t = abs(V[state] - old_V[state])\n",
    "            if delta < t:\n",
    "                delta = t\n",
    "\n",
    "        if delta < threshold:\n",
    "            break\n",
    "    return V"
   ]
  },
  {
   "cell_type": "code",
   "execution_count": 24,
   "metadata": {},
   "outputs": [
    {
     "data": {
      "image/png": "[encoded data removed]",
      "text/plain": [
       "<Figure size 432x288 with 1 Axes>"
      ]
     },
     "metadata": {},
     "output_type": "display_data"
    }
   ],
   "source": [
    "env = GridWorld()\n",
    "gamma = 0.9\n",
    "\n",
    "pi = defaultdict(lambda: {0: 0.25, 1: 0.25, 2: 0.25, 3: 0.25})\n",
    "V = defaultdict(lambda: 0)\n",
    "\n",
    "V = policy_eval(pi, V, env, gamma)\n",
    "env.render_v(V, pi)"
   ]
  },
  {
   "cell_type": "markdown",
   "metadata": {},
   "source": [
    "# 方策反復法の実装"
   ]
  },
  {
   "cell_type": "code",
   "execution_count": 27,
   "metadata": {},
   "outputs": [],
   "source": [
    "def argmax(d):\n",
    "    \"\"\"d (dict)\"\"\"\n",
    "    max_value = max(d.values())\n",
    "    max_key = -1\n",
    "    for key, value in d.items():\n",
    "        if value == max_value:\n",
    "            max_key = key\n",
    "    return max_key\n",
    "\n",
    "def greedy_policy(V, env, gamma):\n",
    "    pi = {}\n",
    "\n",
    "    for state in env.states():\n",
    "        action_values = {}\n",
    "\n",
    "        for action in env.actions():\n",
    "            next_state = env.next_state(state, action)\n",
    "            r = env.reward(state, action, next_state)\n",
    "            value = r + gamma * V[next_state]\n",
    "            action_values[action] = value\n",
    "\n",
    "        max_action = argmax(action_values)\n",
    "        action_probs = {0: 0, 1: 0, 2: 0, 3: 0}\n",
    "        action_probs[max_action] = 1.0\n",
    "        pi[state] = action_probs\n",
    "    return pi\n",
    "\n",
    "def policy_iter(env, gamma, threshold=0.001, is_render=True):\n",
    "    pi = defaultdict(lambda: {0: 0.25, 1: 0.25, 2: 0.25, 3: 0.25})\n",
    "    V = defaultdict(lambda: 0)\n",
    "\n",
    "    while True:\n",
    "        V = policy_eval(pi, V, env, gamma, threshold)\n",
    "        new_pi = greedy_policy(V, env, gamma)\n",
    "\n",
    "        if is_render:\n",
    "            env.render_v(V, pi)\n",
    "\n",
    "        if new_pi == pi:\n",
    "            break\n",
    "        pi = new_pi\n",
    "\n",
    "    return pi"
   ]
  },
  {
   "cell_type": "code",
   "execution_count": 28,
   "metadata": {},
   "outputs": [
    {
     "data": {
      "image/png": "[encoded data removed]",
      "text/plain": [
       "<Figure size 432x288 with 1 Axes>"
      ]
     },
     "metadata": {},
     "output_type": "display_data"
    },
    {
     "data": {
      "image/png": "[encoded data removed]",
      "text/plain": [
       "<Figure size 432x288 with 1 Axes>"
      ]
     },
     "metadata": {},
     "output_type": "display_data"
    },
    {
     "data": {
      "image/png": "[encoded data removed]",
      "text/plain": [
       "<Figure size 432x288 with 1 Axes>"
      ]
     },
     "metadata": {},
     "output_type": "display_data"
    },
    {
     "data": {
      "image/png": "[encoded data removed]",
      "text/plain": [
       "<Figure size 432x288 with 1 Axes>"
      ]
     },
     "metadata": {},
     "output_type": "display_data"
    },
    {
     "data": {
      "image/png": "[encoded data removed]",
      "text/plain": [
       "<Figure size 432x288 with 1 Axes>"
      ]
     },
     "metadata": {},
     "output_type": "display_data"
    }
   ],
   "source": [
    "env = GridWorld()\n",
    "gamma = 0.9\n",
    "pi = policy_iter(env, gamma)\n"
   ]
  },
  {
   "cell_type": "code",
   "execution_count": null,
   "metadata": {},
   "outputs": [],
   "source": []
  }
 ],
 "metadata": {
  "kernelspec": {
   "display_name": "Python 3.8.8 ('base')",
   "language": "python",
   "name": "python3"
  },
  "language_info": {
   "codemirror_mode": {
    "name": "ipython",
    "version": 3
   },
   "file_extension": ".py",
   "mimetype": "text/x-python",
   "name": "python",
   "nbconvert_exporter": "python",
   "pygments_lexer": "ipython3",
   "version": "3.8.8"
  },
  "orig_nbformat": 4,
  "vscode": {
   "interpreter": {
    "hash": "131890dab21eae7250f658285fc23dc32d54d8a0c5b6241dfc540553a94bd1eb"
   }
  }
 },
 "nbformat": 4,
 "nbformat_minor": 2
}
