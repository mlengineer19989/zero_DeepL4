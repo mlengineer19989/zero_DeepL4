{
 "cells": [
  {
   "cell_type": "markdown",
   "metadata": {},
   "source": [
    "# 標本平均の実装"
   ]
  },
  {
   "cell_type": "code",
   "execution_count": 1,
   "metadata": {},
   "outputs": [
    {
     "name": "stdout",
     "output_type": "stream",
     "text": [
      "0.5488135039273248\n",
      "0.6320014351498722\n",
      "0.6222554154571295\n",
      "0.6029123573420713\n",
      "0.567060845741438\n",
      "0.5801997236289743\n",
      "0.5598265075766483\n",
      "0.6013198192273272\n",
      "0.6415801460355164\n",
      "0.6157662833145425\n",
      "---\n",
      "0.5488135039273248\n",
      "0.6320014351498722\n",
      "0.6222554154571294\n",
      "0.6029123573420713\n",
      "0.567060845741438\n",
      "0.5801997236289743\n",
      "0.5598265075766483\n",
      "0.6013198192273272\n",
      "0.6415801460355164\n",
      "0.6157662833145425\n"
     ]
    }
   ],
   "source": [
    "import numpy as np\n",
    "\n",
    "# naive implementation\n",
    "np.random.seed(0)\n",
    "rewards = []\n",
    "\n",
    "for n in range(1, 11):\n",
    "    reward = np.random.rand()\n",
    "    rewards.append(reward)\n",
    "    Q = sum(rewards) / n\n",
    "    print(Q)\n",
    "\n",
    "\n",
    "print('---')\n",
    "\n",
    "# incremental implementation\n",
    "np.random.seed(0)\n",
    "Q = 0\n",
    "\n",
    "for n in range(1, 11):\n",
    "    reward = np.random.rand()\n",
    "    Q = Q + (reward - Q) / n\n",
    "    print(Q)"
   ]
  },
  {
   "cell_type": "markdown",
   "metadata": {},
   "source": [
    "# バンディットアルゴリズムの実装"
   ]
  },
  {
   "cell_type": "code",
   "execution_count": 13,
   "metadata": {},
   "outputs": [],
   "source": [
    "import numpy as np\n",
    "import matplotlib.pyplot as plt\n",
    "\n",
    "#スロットマシンのクラス\n",
    "class Bandit:\n",
    "    def __init__(self, arms=10):\n",
    "        self.rates = np.random.rand(arms)\n",
    "\n",
    "    def play(self, arm):\n",
    "        rate = self.rates[arm]\n",
    "        if rate > np.random.rand():\n",
    "            return 1\n",
    "        else:\n",
    "            return 0"
   ]
  },
  {
   "cell_type": "code",
   "execution_count": 12,
   "metadata": {},
   "outputs": [
    {
     "name": "stdout",
     "output_type": "stream",
     "text": [
      "各スロットの勝率=[0.02010755 0.82894003 0.00469548 0.67781654 0.27000797 0.73519402\n",
      " 0.96218855 0.24875314 0.57615733 0.59204193]\n"
     ]
    },
    {
     "data": {
      "text/plain": [
       "1"
      ]
     },
     "execution_count": 12,
     "metadata": {},
     "output_type": "execute_result"
    }
   ],
   "source": [
    "bandit = Bandit()\n",
    "print(\"各スロットの勝率={}\".format(bandit.rates))\n",
    "\n",
    "bandit.play(9)"
   ]
  },
  {
   "cell_type": "code",
   "execution_count": 14,
   "metadata": {},
   "outputs": [
    {
     "name": "stdout",
     "output_type": "stream",
     "text": [
      "0.0\n",
      "0.0\n",
      "0.0\n",
      "0.0\n",
      "0.0\n",
      "0.0\n",
      "0.0\n",
      "0.0\n",
      "0.1111111111111111\n",
      "0.09999999999999999\n"
     ]
    }
   ],
   "source": [
    "bandit = Bandit()\n",
    "Q=0\n",
    "\n",
    "for n in range(1, 11):\n",
    "    reward = bandit.play(0)\n",
    "    Q = Q + (reward - Q) / n\n",
    "    print(Q)"
   ]
  },
  {
   "cell_type": "code",
   "execution_count": 15,
   "metadata": {},
   "outputs": [
    {
     "name": "stdout",
     "output_type": "stream",
     "text": [
      "[0. 0. 0. 0. 0. 0. 0. 0. 1. 0.]\n",
      "[0. 0. 0. 1. 0. 0. 0. 0. 1. 0.]\n",
      "[0. 0. 0. 1. 0. 0. 0. 0. 1. 0.]\n",
      "[0. 0. 0. 1. 0. 0. 0. 0. 1. 0.]\n",
      "[1. 0. 0. 1. 0. 0. 0. 0. 1. 0.]\n",
      "[1. 0. 0. 1. 0. 0. 0. 0. 1. 0.]\n",
      "[1.  0.  0.  1.  0.  0.5 0.  0.  1.  0. ]\n",
      "[1.  0.  0.  1.  0.  0.5 0.  0.  1.  0. ]\n",
      "[1.  0.  0.  1.  0.  0.5 0.  0.  1.  0. ]\n",
      "[1.         0.         0.         1.         0.         0.33333333\n",
      " 0.         0.         1.         0.        ]\n"
     ]
    }
   ],
   "source": [
    "bandit = Bandit()\n",
    "Qs = np.zeros(10)\n",
    "ns = np.zeros(10)\n",
    "\n",
    "for n in range(10):\n",
    "    action = np.random.randint(0, 10)\n",
    "    reward = bandit.play(action)\n",
    "\n",
    "    ns[action] += 1\n",
    "    Qs[action] += (reward - Qs[action]) / ns[action]\n",
    "    print(Qs)"
   ]
  },
  {
   "cell_type": "code",
   "execution_count": 17,
   "metadata": {},
   "outputs": [],
   "source": [
    "#エージェントクラス実装\n",
    "class Agent:\n",
    "    def __init__(self, epsilon, action_size=10):\n",
    "        self.epsilon = epsilon\n",
    "        self.Qs = np.zeros(action_size)\n",
    "        self.ns = np.zeros(action_size)\n",
    "\n",
    "    def update(self, action, reward):\n",
    "        self.ns[action] += 1\n",
    "        self.Qs[action] += (reward - self.Qs[action]) / self.ns[action]\n",
    "\n",
    "    def get_action(self):\n",
    "        if np.random.rand() < self.epsilon:\n",
    "            return np.random.randint(0, len(self.Qs))\n",
    "        return np.argmax(self.Qs)"
   ]
  },
  {
   "cell_type": "code",
   "execution_count": 50,
   "metadata": {},
   "outputs": [
    {
     "name": "stdout",
     "output_type": "stream",
     "text": [
      "853\n"
     ]
    },
    {
     "data": {
      "image/png": "[encoded data removed]",
      "text/plain": [
       "<Figure size 432x288 with 1 Axes>"
      ]
     },
     "metadata": {
      "needs_background": "light"
     },
     "output_type": "display_data"
    },
    {
     "data": {
      "image/png": "[encoded data removed]",
      "text/plain": [
       "<Figure size 432x288 with 1 Axes>"
      ]
     },
     "metadata": {
      "needs_background": "light"
     },
     "output_type": "display_data"
    }
   ],
   "source": [
    "steps = 1000\n",
    "epsilon = 0.1\n",
    "\n",
    "bandit = Bandit()\n",
    "agent = Agent(epsilon)\n",
    "total_reward = 0\n",
    "total_rewards = []\n",
    "rates = []\n",
    "actions = {str(i):0 for i in range(len(agent.Qs))}#独自に導入した各アクションの回数をカウントするdict\n",
    "\n",
    "for step in range(steps):\n",
    "    action = agent.get_action()\n",
    "    reward = bandit.play(action)\n",
    "    agent.update(action, reward)\n",
    "    total_reward += reward\n",
    "\n",
    "    actions[str(action)] += 1\n",
    "    total_rewards.append(total_reward)\n",
    "    rates.append(total_reward / (step + 1))\n",
    "\n",
    "print(total_reward)\n",
    "\n",
    "plt.ylabel('Total reward')\n",
    "plt.xlabel('Steps')\n",
    "plt.plot(total_rewards)\n",
    "plt.show()\n",
    "\n",
    "plt.ylabel('Rates')\n",
    "plt.xlabel('Steps')\n",
    "plt.plot(rates)\n",
    "plt.show()\n"
   ]
  },
  {
   "cell_type": "code",
   "execution_count": 51,
   "metadata": {},
   "outputs": [
    {
     "data": {
      "text/html": [
       "<div>\n",
       "<style scoped>\n",
       "    .dataframe tbody tr th:only-of-type {\n",
       "        vertical-align: middle;\n",
       "    }\n",
       "\n",
       "    .dataframe tbody tr th {\n",
       "        vertical-align: top;\n",
       "    }\n",
       "\n",
       "    .dataframe thead th {\n",
       "        text-align: right;\n",
       "    }\n",
       "</style>\n",
       "<table border=\"1\" class=\"dataframe\">\n",
       "  <thead>\n",
       "    <tr style=\"text-align: right;\">\n",
       "      <th></th>\n",
       "      <th>0</th>\n",
       "      <th>1</th>\n",
       "      <th>2</th>\n",
       "      <th>3</th>\n",
       "      <th>4</th>\n",
       "      <th>5</th>\n",
       "      <th>6</th>\n",
       "      <th>7</th>\n",
       "      <th>8</th>\n",
       "      <th>9</th>\n",
       "    </tr>\n",
       "  </thead>\n",
       "  <tbody>\n",
       "    <tr>\n",
       "      <th>Q_est</th>\n",
       "      <td>0.04</td>\n",
       "      <td>0.666667</td>\n",
       "      <td>0.272727</td>\n",
       "      <td>0.840336</td>\n",
       "      <td>0.555556</td>\n",
       "      <td>0.307692</td>\n",
       "      <td>0.916129</td>\n",
       "      <td>0.5625</td>\n",
       "      <td>0.333333</td>\n",
       "      <td>0.909091</td>\n",
       "    </tr>\n",
       "    <tr>\n",
       "      <th>action_count</th>\n",
       "      <td>25.00</td>\n",
       "      <td>12.000000</td>\n",
       "      <td>11.000000</td>\n",
       "      <td>119.000000</td>\n",
       "      <td>9.000000</td>\n",
       "      <td>13.000000</td>\n",
       "      <td>775.000000</td>\n",
       "      <td>16.0000</td>\n",
       "      <td>9.000000</td>\n",
       "      <td>11.000000</td>\n",
       "    </tr>\n",
       "  </tbody>\n",
       "</table>\n",
       "</div>"
      ],
      "text/plain": [
       "                  0          1          2           3         4          5  \\\n",
       "Q_est          0.04   0.666667   0.272727    0.840336  0.555556   0.307692   \n",
       "action_count  25.00  12.000000  11.000000  119.000000  9.000000  13.000000   \n",
       "\n",
       "                       6        7         8          9  \n",
       "Q_est           0.916129   0.5625  0.333333   0.909091  \n",
       "action_count  775.000000  16.0000  9.000000  11.000000  "
      ]
     },
     "execution_count": 51,
     "metadata": {},
     "output_type": "execute_result"
    }
   ],
   "source": [
    "import pandas as pd\n",
    "\n",
    "arms = len(agent.Qs)\n",
    "df = pd.DataFrame(np.zeros([2, arms]), index=[\"Q_est\", \"action_count\"], columns=[str(i) for i in range(arms)])\n",
    "df.loc[\"Q_est\"] = agent.Qs\n",
    "df.loc[\"action_count\"] = actions\n",
    "\n",
    "df"
   ]
  },
  {
   "cell_type": "code",
   "execution_count": null,
   "metadata": {},
   "outputs": [],
   "source": []
  }
 ],
 "metadata": {
  "kernelspec": {
   "display_name": "Python 3.7.11 ('base')",
   "language": "python",
   "name": "python3"
  },
  "language_info": {
   "codemirror_mode": {
    "name": "ipython",
    "version": 3
   },
   "file_extension": ".py",
   "mimetype": "text/x-python",
   "name": "python",
   "nbconvert_exporter": "python",
   "pygments_lexer": "ipython3",
   "version": "3.7.11"
  },
  "orig_nbformat": 4,
  "vscode": {
   "interpreter": {
    "hash": "4bf7d42566934378e3b3fa49d5ce639162b742cc4657771a427b205a5111fc3f"
   }
  }
 },
 "nbformat": 4,
 "nbformat_minor": 2
}
