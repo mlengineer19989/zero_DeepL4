{
 "cells": [
  {
   "cell_type": "markdown",
   "metadata": {},
   "source": [
    "# サイコロの目の和"
   ]
  },
  {
   "cell_type": "code",
   "execution_count": 10,
   "metadata": {},
   "outputs": [
    {
     "name": "stdout",
     "output_type": "stream",
     "text": [
      "7.0\n"
     ]
    }
   ],
   "source": [
    "from collections import defaultdict\n",
    "\n",
    "#確率分布のdict作成\n",
    "dist = {i:1/6 for i in range(1, 7)}\n",
    "\n",
    "#2次元確率分布計算\n",
    "dist_multi = defaultdict(lambda: 0)\n",
    "for key1, v1 in dist.items():\n",
    "    for key2, v2 in dist.items():\n",
    "        dist_multi[key1 + key2] += v1*v2\n",
    "\n",
    "#期待値計算\n",
    "E = 0\n",
    "for key ,v in dist_multi.items():\n",
    "    E += key*v\n",
    "\n",
    "print(E)"
   ]
  },
  {
   "cell_type": "markdown",
   "metadata": {},
   "source": [
    "# 分布モデルとサンプルモデル"
   ]
  },
  {
   "cell_type": "code",
   "execution_count": 14,
   "metadata": {},
   "outputs": [
    {
     "name": "stdout",
     "output_type": "stream",
     "text": [
      "12\n"
     ]
    }
   ],
   "source": [
    "import numpy as np\n",
    "\n",
    "def sample(dices=2):\n",
    "    x = 0\n",
    "    for _ in range(dices):\n",
    "        x += np.random.choice([1, 2, 3, 4, 5, 6])\n",
    "    return x\n",
    "\n",
    "print(sample())"
   ]
  },
  {
   "cell_type": "markdown",
   "metadata": {},
   "source": [
    "# モンテカルロ法の実装"
   ]
  },
  {
   "cell_type": "code",
   "execution_count": 16,
   "metadata": {},
   "outputs": [
    {
     "name": "stdout",
     "output_type": "stream",
     "text": [
      "7.008\n"
     ]
    }
   ],
   "source": [
    "#自分の実装\n",
    "\n",
    "n = 1000\n",
    "\n",
    "samples = np.array([sample() for i in range(n)])\n",
    "E_sample = np.mean(samples)\n",
    "print(E_sample)"
   ]
  },
  {
   "cell_type": "code",
   "execution_count": 19,
   "metadata": {},
   "outputs": [
    {
     "name": "stdout",
     "output_type": "stream",
     "text": [
      "7.007999999999997\n"
     ]
    }
   ],
   "source": [
    "#教科書の実装\n",
    "\n",
    "trial = 1000\n",
    "V, n = 0, 0\n",
    "\n",
    "for _ in range(trial):\n",
    "    s = sample()\n",
    "    n += 1\n",
    "    V += (s - V) / n\n",
    "print(V)"
   ]
  },
  {
   "cell_type": "code",
   "execution_count": null,
   "metadata": {},
   "outputs": [],
   "source": []
  }
 ],
 "metadata": {
  "kernelspec": {
   "display_name": "Python 3.8.8 ('base')",
   "language": "python",
   "name": "python3"
  },
  "language_info": {
   "codemirror_mode": {
    "name": "ipython",
    "version": 3
   },
   "file_extension": ".py",
   "mimetype": "text/x-python",
   "name": "python",
   "nbconvert_exporter": "python",
   "pygments_lexer": "ipython3",
   "version": "3.8.8"
  },
  "orig_nbformat": 4,
  "vscode": {
   "interpreter": {
    "hash": "131890dab21eae7250f658285fc23dc32d54d8a0c5b6241dfc540553a94bd1eb"
   }
  }
 },
 "nbformat": 4,
 "nbformat_minor": 2
}
