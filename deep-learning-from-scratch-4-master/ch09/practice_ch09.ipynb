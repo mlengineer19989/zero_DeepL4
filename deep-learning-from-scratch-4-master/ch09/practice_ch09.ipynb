{
 "cells": [
  {
   "cell_type": "markdown",
   "metadata": {},
   "source": [
    "# 方策勾配法の実装"
   ]
  },
  {
   "cell_type": "code",
   "execution_count": 1,
   "metadata": {},
   "outputs": [
    {
     "name": "stderr",
     "output_type": "stream",
     "text": [
      "/Users/yamauchito_satoshi/Documents/env/zero_DeepL4/lib/python3.8/site-packages/dezero/transforms.py:50: DeprecationWarning: BILINEAR is deprecated and will be removed in Pillow 10 (2023-07-01). Use Resampling.BILINEAR instead.\n",
      "  def __init__(self, size, mode=Image.BILINEAR):\n",
      "/Users/yamauchito_satoshi/Documents/env/zero_DeepL4/lib/python3.8/site-packages/dezero/transforms.py:154: DeprecationWarning: `np.int` is a deprecated alias for the builtin `int`. To silence this warning, use `int` by itself. Doing this will not modify any behavior and is safe. When replacing `np.int`, you may wish to use e.g. `np.int64` or `np.int32` to specify the precision. If you wish to review your current use, check the release note link for additional information.\n",
      "Deprecated in NumPy 1.20; for more details and guidance: https://numpy.org/devdocs/release/1.20.0-notes.html#deprecations\n",
      "  def __init__(self, dtype=np.int):\n"
     ]
    }
   ],
   "source": [
    "if '__file__' in globals():\n",
    "    import os, sys\n",
    "    sys.path.append(os.path.join(os.path.dirname(__file__), '..'))\n",
    "import numpy as np\n",
    "import gym\n",
    "from dezero import Model\n",
    "from dezero import optimizers\n",
    "import dezero.functions as F\n",
    "import dezero.layers as L\n",
    "\n",
    "\n",
    "class Policy(Model):\n",
    "    def __init__(self, action_size):\n",
    "        super().__init__()\n",
    "        self.l1 = L.Linear(128)\n",
    "        self.l2 = L.Linear(action_size)\n",
    "\n",
    "    def forward(self, x):\n",
    "        x = F.relu(self.l1(x))\n",
    "        x = F.softmax(self.l2(x))\n",
    "        return x\n",
    "\n",
    "\n",
    "class Agent:\n",
    "    def __init__(self):\n",
    "        self.gamma = 0.98\n",
    "        self.lr = 0.0002\n",
    "        self.action_size = 2\n",
    "\n",
    "        self.memory = []\n",
    "        self.pi = Policy(self.action_size)\n",
    "        self.optimizer = optimizers.Adam(self.lr)\n",
    "        self.optimizer.setup(self.pi)\n",
    "\n",
    "    def get_action(self, state):\n",
    "        state = state[np.newaxis, :]\n",
    "        probs = self.pi(state)\n",
    "        probs = probs[0]\n",
    "        action = np.random.choice(len(probs), p=probs.data)\n",
    "        return action, probs[action]\n",
    "\n",
    "    def add(self, reward, prob):\n",
    "        data = (reward, prob)\n",
    "        self.memory.append(data)\n",
    "\n",
    "    def update(self):\n",
    "        self.pi.cleargrads()\n",
    "\n",
    "        G, loss = 0, 0\n",
    "        for reward, prob in reversed(self.memory):\n",
    "            G = reward + self.gamma * G\n",
    "\n",
    "        for reward, prob in self.memory:\n",
    "            loss += -F.log(prob) * G\n",
    "\n",
    "        loss.backward()\n",
    "        self.optimizer.update()\n",
    "        self.memory = []"
   ]
  },
  {
   "cell_type": "code",
   "execution_count": 2,
   "metadata": {},
   "outputs": [
    {
     "name": "stdout",
     "output_type": "stream",
     "text": [
      "action: 0\n",
      "prob: variable(0.49148357)\n",
      "J: variable(-71.03267908096313)\n"
     ]
    },
    {
     "name": "stderr",
     "output_type": "stream",
     "text": [
      "/Users/yamauchito_satoshi/Documents/env/zero_DeepL4/lib/python3.8/site-packages/gym/envs/registration.py:593: UserWarning: \u001b[33mWARN: The environment CartPole-v0 is out of date. You should consider upgrading to version `v1`.\u001b[0m\n",
      "  logger.warn(\n",
      "/Users/yamauchito_satoshi/Documents/env/zero_DeepL4/lib/python3.8/site-packages/gym/core.py:329: DeprecationWarning: \u001b[33mWARN: Initializing wrapper in old step API which returns one bool instead of two. It is recommended to set `new_step_api=True` to use new step API. This will be the default behaviour in future.\u001b[0m\n",
      "  deprecation(\n",
      "/Users/yamauchito_satoshi/Documents/env/zero_DeepL4/lib/python3.8/site-packages/gym/wrappers/step_api_compatibility.py:39: DeprecationWarning: \u001b[33mWARN: Initializing environment in old step API which returns one bool instead of two. It is recommended to set `new_step_api=True` to use new step API. This will be the default behaviour in future.\u001b[0m\n",
      "  deprecation(\n"
     ]
    }
   ],
   "source": [
    "env = gym.make(\"CartPole-v0\")\n",
    "state = env.reset()\n",
    "agent = Agent()\n",
    "\n",
    "action, prob = agent.get_action(state)\n",
    "print(\"action:\", action)\n",
    "print(\"prob:\", prob)\n",
    "\n",
    "G = 100.0\n",
    "J = G * F.log(prob)\n",
    "print(\"J:\", J)\n",
    "\n",
    "J.backward()"
   ]
  },
  {
   "cell_type": "code",
   "execution_count": 5,
   "metadata": {},
   "outputs": [
    {
     "name": "stderr",
     "output_type": "stream",
     "text": [
      "/Users/yamauchito_satoshi/Documents/env/zero_DeepL4/lib/python3.8/site-packages/gym/envs/registration.py:593: UserWarning: \u001b[33mWARN: The environment CartPole-v0 is out of date. You should consider upgrading to version `v1`.\u001b[0m\n",
      "  logger.warn(\n",
      "/Users/yamauchito_satoshi/Documents/env/zero_DeepL4/lib/python3.8/site-packages/gym/core.py:329: DeprecationWarning: \u001b[33mWARN: Initializing wrapper in old step API which returns one bool instead of two. It is recommended to set `new_step_api=True` to use new step API. This will be the default behaviour in future.\u001b[0m\n",
      "  deprecation(\n",
      "/Users/yamauchito_satoshi/Documents/env/zero_DeepL4/lib/python3.8/site-packages/gym/wrappers/step_api_compatibility.py:39: DeprecationWarning: \u001b[33mWARN: Initializing environment in old step API which returns one bool instead of two. It is recommended to set `new_step_api=True` to use new step API. This will be the default behaviour in future.\u001b[0m\n",
      "  deprecation(\n"
     ]
    },
    {
     "name": "stdout",
     "output_type": "stream",
     "text": [
      "episode :0, total reward : 12.0\n",
      "episode :100, total reward : 8.0\n",
      "episode :200, total reward : 17.0\n",
      "episode :300, total reward : 11.0\n",
      "episode :400, total reward : 51.0\n",
      "episode :500, total reward : 36.0\n",
      "episode :600, total reward : 73.0\n",
      "episode :700, total reward : 33.0\n",
      "episode :800, total reward : 25.0\n",
      "episode :900, total reward : 26.0\n",
      "episode :1000, total reward : 47.0\n",
      "episode :1100, total reward : 51.0\n",
      "episode :1200, total reward : 108.0\n",
      "episode :1300, total reward : 51.0\n",
      "episode :1400, total reward : 79.0\n",
      "episode :1500, total reward : 30.0\n",
      "episode :1600, total reward : 54.0\n",
      "episode :1700, total reward : 39.0\n",
      "episode :1800, total reward : 43.0\n",
      "episode :1900, total reward : 72.0\n",
      "episode :2000, total reward : 120.0\n",
      "episode :2100, total reward : 133.0\n",
      "episode :2200, total reward : 55.0\n",
      "episode :2300, total reward : 119.0\n",
      "episode :2400, total reward : 142.0\n",
      "episode :2500, total reward : 117.0\n",
      "episode :2600, total reward : 180.0\n",
      "episode :2700, total reward : 200.0\n",
      "episode :2800, total reward : 200.0\n",
      "episode :2900, total reward : 48.0\n"
     ]
    },
    {
     "data": {
      "image/png": "[encoded data removed]",
      "text/plain": [
       "<Figure size 432x288 with 1 Axes>"
      ]
     },
     "metadata": {
      "needs_background": "light"
     },
     "output_type": "display_data"
    }
   ],
   "source": [
    "sys.path.append(os.path.abspath(\"../\"))\n",
    "from common.utils import plot_total_reward\n",
    "\n",
    "episodes = 3000\n",
    "env = gym.make('CartPole-v0')\n",
    "agent = Agent()\n",
    "reward_history = []\n",
    "\n",
    "for episode in range(episodes):\n",
    "    state = env.reset()\n",
    "    done = False\n",
    "    total_reward = 0\n",
    "\n",
    "    while not done:\n",
    "        action, prob = agent.get_action(state)\n",
    "        next_state, reward, done, info = env.step(action)\n",
    "\n",
    "        agent.add(reward, prob)\n",
    "        state = next_state\n",
    "        total_reward += reward\n",
    "\n",
    "    agent.update()\n",
    "\n",
    "    reward_history.append(total_reward)\n",
    "    if episode % 100 == 0:\n",
    "        print(\"episode :{}, total reward : {:.1f}\".format(episode, total_reward))\n",
    "\n",
    "\n",
    "# plot\n",
    "plot_total_reward(reward_history)"
   ]
  },
  {
   "cell_type": "markdown",
   "metadata": {},
   "source": [
    "# REINFORCE"
   ]
  },
  {
   "cell_type": "code",
   "execution_count": 6,
   "metadata": {},
   "outputs": [],
   "source": [
    "class Agent_REINFORCE(Agent):\n",
    "    def update(self):\n",
    "        self.pi.cleargrads()\n",
    "\n",
    "        G, loss = 0, 0\n",
    "        for reward, prob in reversed(self.memory):\n",
    "            G = reward + self.gamma * G\n",
    "            loss += -F.log(prob) * G\n",
    "\n",
    "        loss.backward()\n",
    "        self.optimizer.update()\n",
    "        self.memory = []"
   ]
  },
  {
   "cell_type": "code",
   "execution_count": 7,
   "metadata": {},
   "outputs": [
    {
     "name": "stderr",
     "output_type": "stream",
     "text": [
      "/Users/yamauchito_satoshi/Documents/env/zero_DeepL4/lib/python3.8/site-packages/gym/envs/registration.py:593: UserWarning: \u001b[33mWARN: The environment CartPole-v0 is out of date. You should consider upgrading to version `v1`.\u001b[0m\n",
      "  logger.warn(\n",
      "/Users/yamauchito_satoshi/Documents/env/zero_DeepL4/lib/python3.8/site-packages/gym/core.py:329: DeprecationWarning: \u001b[33mWARN: Initializing wrapper in old step API which returns one bool instead of two. It is recommended to set `new_step_api=True` to use new step API. This will be the default behaviour in future.\u001b[0m\n",
      "  deprecation(\n",
      "/Users/yamauchito_satoshi/Documents/env/zero_DeepL4/lib/python3.8/site-packages/gym/wrappers/step_api_compatibility.py:39: DeprecationWarning: \u001b[33mWARN: Initializing environment in old step API which returns one bool instead of two. It is recommended to set `new_step_api=True` to use new step API. This will be the default behaviour in future.\u001b[0m\n",
      "  deprecation(\n"
     ]
    },
    {
     "name": "stdout",
     "output_type": "stream",
     "text": [
      "episode :0, total reward : 23.0\n",
      "episode :100, total reward : 22.0\n",
      "episode :200, total reward : 17.0\n",
      "episode :300, total reward : 54.0\n",
      "episode :400, total reward : 35.0\n",
      "episode :500, total reward : 27.0\n",
      "episode :600, total reward : 38.0\n",
      "episode :700, total reward : 118.0\n",
      "episode :800, total reward : 109.0\n",
      "episode :900, total reward : 79.0\n",
      "episode :1000, total reward : 184.0\n",
      "episode :1100, total reward : 64.0\n",
      "episode :1200, total reward : 34.0\n",
      "episode :1300, total reward : 171.0\n",
      "episode :1400, total reward : 200.0\n",
      "episode :1500, total reward : 200.0\n",
      "episode :1600, total reward : 200.0\n",
      "episode :1700, total reward : 151.0\n",
      "episode :1800, total reward : 200.0\n",
      "episode :1900, total reward : 200.0\n",
      "episode :2000, total reward : 200.0\n",
      "episode :2100, total reward : 200.0\n",
      "episode :2200, total reward : 200.0\n",
      "episode :2300, total reward : 200.0\n",
      "episode :2400, total reward : 161.0\n",
      "episode :2500, total reward : 191.0\n",
      "episode :2600, total reward : 200.0\n",
      "episode :2700, total reward : 200.0\n",
      "episode :2800, total reward : 200.0\n",
      "episode :2900, total reward : 200.0\n"
     ]
    },
    {
     "data": {
      "image/png": "[encoded data removed]",
      "text/plain": [
       "<Figure size 432x288 with 1 Axes>"
      ]
     },
     "metadata": {
      "needs_background": "light"
     },
     "output_type": "display_data"
    }
   ],
   "source": [
    "sys.path.append(os.path.abspath(\"../\"))\n",
    "from common.utils import plot_total_reward\n",
    "\n",
    "episodes = 3000\n",
    "env = gym.make('CartPole-v0')\n",
    "agent = Agent_REINFORCE()\n",
    "reward_history = []\n",
    "\n",
    "for episode in range(episodes):\n",
    "    state = env.reset()\n",
    "    done = False\n",
    "    total_reward = 0\n",
    "\n",
    "    while not done:\n",
    "        action, prob = agent.get_action(state)\n",
    "        next_state, reward, done, info = env.step(action)\n",
    "\n",
    "        agent.add(reward, prob)\n",
    "        state = next_state\n",
    "        total_reward += reward\n",
    "\n",
    "    agent.update()\n",
    "\n",
    "    reward_history.append(total_reward)\n",
    "    if episode % 100 == 0:\n",
    "        print(\"episode :{}, total reward : {:.1f}\".format(episode, total_reward))\n",
    "\n",
    "\n",
    "# plot\n",
    "plot_total_reward(reward_history)"
   ]
  },
  {
   "cell_type": "code",
   "execution_count": null,
   "metadata": {},
   "outputs": [],
   "source": []
  }
 ],
 "metadata": {
  "kernelspec": {
   "display_name": "Python 3.8.8 ('zero_DeepL4')",
   "language": "python",
   "name": "python3"
  },
  "language_info": {
   "codemirror_mode": {
    "name": "ipython",
    "version": 3
   },
   "file_extension": ".py",
   "mimetype": "text/x-python",
   "name": "python",
   "nbconvert_exporter": "python",
   "pygments_lexer": "ipython3",
   "version": "3.8.8"
  },
  "orig_nbformat": 4,
  "vscode": {
   "interpreter": {
    "hash": "c87f3622c2ea8e0d326ee4536d8291e8dc167b57ce72c5446c21789e4b540e8b"
   }
  }
 },
 "nbformat": 4,
 "nbformat_minor": 2
}
